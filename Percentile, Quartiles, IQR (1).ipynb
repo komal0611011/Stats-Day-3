{
 "cells": [
  {
   "cell_type": "code",
   "execution_count": 1,
   "id": "4c3497d6-46c1-4c89-a13b-a021951f9eeb",
   "metadata": {},
   "outputs": [],
   "source": [
    "# Percentiles Quartiles & IQR"
   ]
  },
  {
   "cell_type": "code",
   "execution_count": 2,
   "id": "236577bf-775e-4252-9d58-fbb8264dab20",
   "metadata": {},
   "outputs": [
    {
     "name": "stdout",
     "output_type": "stream",
     "text": [
      "Q1: 61.25\n",
      "Q2 (Median): 75.0\n",
      "Q3: 88.75\n",
      "25th Percentile: 61.25\n",
      "90th Percentile: 95.5\n",
      "IQR: 27.5\n",
      "Outliers:\n",
      " Empty DataFrame\n",
      "Columns: [Marks]\n",
      "Index: []\n"
     ]
    }
   ],
   "source": [
    "# Step 1: Import libraries\n",
    "import pandas as pd\n",
    "import numpy as np\n",
    "\n",
    "# Step 2: Sample data\n",
    "marks = [45, 55, 60, 70, 65, 80, 85, 90, 95, 100]\n",
    "df = pd.DataFrame(marks, columns=['Marks'])\n",
    "\n",
    "# Step 3: Quartiles\n",
    "Q1 = df['Marks'].quantile(0.25)\n",
    "Q2 = df['Marks'].quantile(0.50)  # Median\n",
    "Q3 = df['Marks'].quantile(0.75)\n",
    "\n",
    "print(\"Q1:\", Q1)\n",
    "print(\"Q2 (Median):\", Q2)\n",
    "print(\"Q3:\", Q3)\n",
    "\n",
    "# Step 4: Percentiles\n",
    "p25 = np.percentile(df['Marks'], 25)\n",
    "p90 = np.percentile(df['Marks'], 90)\n",
    "\n",
    "print(\"25th Percentile:\", p25)\n",
    "print(\"90th Percentile:\", p90)\n",
    "\n",
    "# Step 5: IQR\n",
    "IQR = Q3 - Q1\n",
    "print(\"IQR:\", IQR)\n",
    "\n",
    "# Step 6: Outlier Detection\n",
    "lower_fence = Q1 - 1.5 * IQR\n",
    "upper_fence = Q3 + 1.5 * IQR\n",
    "\n",
    "outliers = df[(df['Marks'] < lower_fence) | (df['Marks'] > upper_fence)]\n",
    "print(\"Outliers:\\n\", outliers)\n"
   ]
  },
  {
   "cell_type": "code",
   "execution_count": 3,
   "id": "1c77e902-1618-4714-9fa2-ae78ad4fa223",
   "metadata": {},
   "outputs": [],
   "source": [
    "# Question: Daily Sales Analysis\n",
    "\n",
    "# You have the daily sales (in ₹) for 10 days in a store:\n",
    "\n",
    "# sales = [500, 550, 600, 650, 700, 750, 800, 1200, 1300, 1400]\n",
    "\n",
    "# Tasks:\n",
    "\n",
    "# Calculate the Q1, Q2 (median), and Q3 of the sales.\n",
    "\n",
    "# Find the 10th percentile and 90th percentile of the sales.\n",
    "\n",
    "# Calculate the IQR (Interquartile Range).\n",
    "\n",
    "# Use the IQR to identify any outliers.\n",
    "\n",
    "# If there are outliers, highlight them in the dataset."
   ]
  },
  {
   "cell_type": "code",
   "execution_count": 4,
   "id": "29876a21-0fdd-45f9-81aa-64e589f684ef",
   "metadata": {},
   "outputs": [
    {
     "name": "stdout",
     "output_type": "stream",
     "text": [
      "Q1: 612.5\n",
      "Q2 (median): 725.0\n",
      "Q3: 725.0\n",
      "10th percentile 545.0\n",
      "90th percentile 1310.0\n",
      "IQR 487.5\n",
      "Outliers: Empty DataFrame\n",
      "Columns: [sales]\n",
      "Index: []\n"
     ]
    }
   ],
   "source": [
    "import pandas as pd\n",
    "import numpy as np\n",
    "\n",
    "# Data\n",
    "sales = [500, 550, 600, 650, 700, 750, 800, 1200, 1300, 1400]\n",
    "df = pd.DataFrame(sales, columns = ['sales'])\n",
    "\n",
    "# # Calculate the Q1, Q2 (median), and Q3 of the sales.\n",
    "Q1 = df['sales'].quantile(0.25)\n",
    "Q2 = df['sales'].quantile(0.50)\n",
    "Q3 = df['sales'].quantile(0.75)\n",
    "\n",
    "# print quartile\n",
    "print(\"Q1:\", Q1)\n",
    "print(\"Q2 (median):\", Q2)\n",
    "print(\"Q3:\", Q2)\n",
    "\n",
    "# Find the 10th percentile and 90th percentile of the sales.\n",
    "P10 = np.percentile(df['sales'],10) \n",
    "P90 = np.percentile(df['sales'],90) \n",
    "\n",
    "# Print Percentile\n",
    "print(\"10th percentile\", P10)\n",
    "print(\"90th percentile\", P90)\n",
    "\n",
    "\n",
    "# # Calculate the IQR (Interquartile Range).\n",
    "IQR = Q3 - Q1\n",
    "print(\"IQR\", IQR)\n",
    "\n",
    "# Use the IQR to identify any outliers.\n",
    "lower_fence = Q1 - 1.5 * IQR\n",
    "upper_fence = Q3 + 1.5 * IQR\n",
    "Outliers = df[(df['sales']< lower_fence) | (df['sales']  > upper_fence)]\n",
    "print(\"Outliers:\", Outliers)\n"
   ]
  }
 ],
 "metadata": {
  "kernelspec": {
   "display_name": "Python 3 (ipykernel)",
   "language": "python",
   "name": "python3"
  },
  "language_info": {
   "codemirror_mode": {
    "name": "ipython",
    "version": 3
   },
   "file_extension": ".py",
   "mimetype": "text/x-python",
   "name": "python",
   "nbconvert_exporter": "python",
   "pygments_lexer": "ipython3",
   "version": "3.12.7"
  }
 },
 "nbformat": 4,
 "nbformat_minor": 5
}
